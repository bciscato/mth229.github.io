{
 "cells": [
  {
   "cell_type": "markdown",
   "metadata": {
    "internals": {
     "slide_helper": "subslide_end",
     "slide_type": "subslide"
    },
    "slide_helper": "slide_end",
    "slideshow": {
     "slide_type": "slide"
    }
   },
   "source": [
    "# Functions in Julia\n"
   ]
  },
  {
   "cell_type": "markdown",
   "metadata": {},
   "source": [
    "Read more about this [here](http://mth229.github.io/functions.html).\n"
   ]
  },
  {
   "cell_type": "markdown",
   "metadata": {},
   "source": [
    "For some problems herein, you  will need features  made  available in  the add-on `MTH229` package, which is loaded with  the following  command:\n"
   ]
  },
  {
   "cell_type": "code",
   "execution_count": 1,
   "metadata": {},
   "outputs": [],
   "source": [
    "using MTH229"
   ]
  },
  {
   "cell_type": "markdown",
   "metadata": {},
   "source": [
    "(When you run the cell to load the `MTH229` – and other add-on packages – an asterisk will appear in the label to the left of the cell: `[*]`. When the packages have been loaded, which can take awhile, the asterisk will turn into a number.)\n"
   ]
  },
  {
   "cell_type": "markdown",
   "metadata": {},
   "source": [
    "---\n"
   ]
  },
  {
   "cell_type": "markdown",
   "metadata": {},
   "source": [
    "For the impatient:\n"
   ]
  },
  {
   "cell_type": "markdown",
   "metadata": {},
   "source": [
    "A *function* in mathematics is [defined](http://tinyurl.com/c2rwqyb) as \"a relation between a set of inputs and a set of permissible outputs with the property that each input is related to exactly one output.\" That is a general definition. Specialized to mathematical functions of one real variable returning a real value (univariate functions), we can define a function in terms of a rule–-what happens to $x$ to produce $y$, such as this one which squares $x$ then subtracts $2$:\n"
   ]
  },
  {
   "cell_type": "markdown",
   "metadata": {},
   "source": [
    "$$ f(x) = x^2 - 2. $$\n"
   ]
  },
  {
   "cell_type": "markdown",
   "metadata": {},
   "source": [
    "The **domain** of a function is the set of all permissible values for $x$, in this example this is all $x$, but this need not be the case either due to the rule not being defined for some $x$ or a more explicit restriction, such as $x \\geq 0$.\n"
   ]
  },
  {
   "cell_type": "markdown",
   "metadata": {},
   "source": [
    "The **range** is the set of all possible outputs. Written in set notation, this is $\\{f(x): x \\in \\text{ the domain }\\}$.\n"
   ]
  },
  {
   "cell_type": "markdown",
   "metadata": {},
   "source": [
    "Mathematically, we evaluate or **call** a function with the notation $f(2)$ or $f(3)$, say.\n"
   ]
  },
  {
   "cell_type": "markdown",
   "metadata": {},
   "source": [
    "Mathematically we might refer to the function by its name, $f$, or its values such as $f(2)$ or $f(\\pi)$.\n"
   ]
  },
  {
   "cell_type": "markdown",
   "metadata": {},
   "source": [
    "In `Julia` basic mathematical functions are defined and used with the *exact* same notation, save for accommodations in translating math to `Julia`.\n"
   ]
  },
  {
   "cell_type": "markdown",
   "metadata": {},
   "source": [
    "For example, this command creates a function `f`:\n"
   ]
  },
  {
   "cell_type": "code",
   "execution_count": 2,
   "metadata": {},
   "outputs": [
    {
     "data": {
      "text/plain": [
       "f (generic function with 1 method)"
      ]
     },
     "execution_count": 2,
     "metadata": {},
     "output_type": "execute_result"
    }
   ],
   "source": [
    "f(x) = x^2 - 2"
   ]
  },
  {
   "cell_type": "markdown",
   "metadata": {},
   "source": [
    "Unlike an expression, the value `x` in the definition of `f(x)` does not need to be defined until the function is actually called. As with math, this variable name need not be `x` – it could be `t`, `y`, `theta`, or any other valid name.\n"
   ]
  },
  {
   "cell_type": "markdown",
   "metadata": {},
   "source": [
    "We *call* `f` for the given value using the same `f(x)` notation. For example, finding our `f` at the value of `2` is done with:\n"
   ]
  },
  {
   "cell_type": "code",
   "execution_count": 3,
   "metadata": {},
   "outputs": [
    {
     "data": {
      "text/plain": [
       "2"
      ]
     },
     "execution_count": 3,
     "metadata": {},
     "output_type": "execute_result"
    }
   ],
   "source": [
    "f(2)"
   ]
  },
  {
   "cell_type": "markdown",
   "metadata": {},
   "source": [
    "That is, as with typical mathematical notation, the function is \"called\" by passing a value to it with parentheses.\n"
   ]
  },
  {
   "cell_type": "markdown",
   "metadata": {},
   "source": [
    "Within a cell, we can evaluate one or more values by using commas to separate them:\n"
   ]
  },
  {
   "cell_type": "code",
   "execution_count": 4,
   "metadata": {},
   "outputs": [
    {
     "data": {
      "text/plain": [
       "(-1, 2, 7)"
      ]
     },
     "execution_count": 4,
     "metadata": {},
     "output_type": "execute_result"
    }
   ],
   "source": [
    "f(1), f(2), f(3)"
   ]
  },
  {
   "cell_type": "markdown",
   "metadata": {},
   "source": [
    "The function name refers to the function object:\n"
   ]
  },
  {
   "cell_type": "code",
   "execution_count": 5,
   "metadata": {},
   "outputs": [
    {
     "data": {
      "text/plain": [
       "f (generic function with 1 method)"
      ]
     },
     "execution_count": 5,
     "metadata": {},
     "output_type": "execute_result"
    }
   ],
   "source": [
    "f"
   ]
  },
  {
   "cell_type": "markdown",
   "metadata": {},
   "source": [
    "Don't worry about the words \"generic\" and \"method\", but be aware that because of this once you have defined a name as a variable it can not be re-purposed as a *generic* function name and vice versa. (In the common first case, read the error message, it will say something like: `ERROR: cannot define function a; it already has a value`.)\n"
   ]
  },
  {
   "cell_type": "markdown",
   "metadata": {},
   "source": [
    "The \"domain\" of a `Julia` function is similar in meaning to its mathematical counterpart. `Julia` may respond with different values, such as `Inf`, for infinity; `NaN`, when an expression is indeterminate; or it may throw an error, typically a `DomainError`:\n"
   ]
  },
  {
   "cell_type": "code",
   "execution_count": 6,
   "metadata": {},
   "outputs": [
    {
     "data": {
      "text/plain": [
       "(Inf, NaN)"
      ]
     },
     "execution_count": 6,
     "metadata": {},
     "output_type": "execute_result"
    }
   ],
   "source": [
    "f(x) = sqrt(x)/(x*(1-x))\n",
    "f(1), f(0)"
   ]
  },
  {
   "cell_type": "markdown",
   "metadata": {},
   "source": [
    "and an error with:\n"
   ]
  },
  {
   "cell_type": "code",
   "execution_count": 7,
   "metadata": {},
   "outputs": [
    {
     "ename": "LoadError",
     "evalue": "DomainError with -1.0:\nsqrt will only return a complex result if called with a complex argument. Try sqrt(Complex(x)).",
     "output_type": "error",
     "traceback": [
      "DomainError with -1.0:\nsqrt will only return a complex result if called with a complex argument. Try sqrt(Complex(x)).",
      "",
      "Stacktrace:",
      " [1] throw_complex_domainerror(f::Symbol, x::Float64)",
      "   @ Base.Math ./math.jl:33",
      " [2] sqrt",
      "   @ ./math.jl:567 [inlined]",
      " [3] sqrt",
      "   @ ./math.jl:1221 [inlined]",
      " [4] f(x::Int64)",
      "   @ Main ./In[6]:1",
      " [5] top-level scope",
      "   @ In[7]:1",
      " [6] eval",
      "   @ ./boot.jl:373 [inlined]",
      " [7] include_string(mapexpr::typeof(REPL.softscope), mod::Module, code::String, filename::String)",
      "   @ Base ./loading.jl:1196"
     ]
    }
   ],
   "source": [
    "f(-1)"
   ]
  },
  {
   "cell_type": "markdown",
   "metadata": {},
   "source": [
    "Functions can be more complicated than the \"one-liners\" illustrated. In that case, a multiline form is available:\n"
   ]
  },
  {
   "cell_type": "code",
   "execution_count": 8,
   "metadata": {},
   "outputs": [
    {
     "data": {
      "text/plain": [
       "fn_name (generic function with 1 method)"
      ]
     },
     "execution_count": 8,
     "metadata": {},
     "output_type": "execute_result"
    }
   ],
   "source": [
    "function fn_name(args...)\n",
    "  body\n",
    "end"
   ]
  },
  {
   "cell_type": "markdown",
   "metadata": {},
   "source": [
    "The keyword `function` indicates this is a function whose name is given in the definition. Within the body, the last expression evaluated is the output, unless a `return` statement is used.\n"
   ]
  },
  {
   "cell_type": "markdown",
   "metadata": {},
   "source": [
    "---\n"
   ]
  },
  {
   "cell_type": "markdown",
   "metadata": {},
   "source": [
    "For basic uses of functions–-90 percent of the uses in this class–-the above covers what you need to know about functions.\n"
   ]
  },
  {
   "cell_type": "markdown",
   "metadata": {
    "internals": {
     "slide_helper": "subslide_end",
     "slide_type": "subslide"
    },
    "slide_helper": "slide_end",
    "slideshow": {
     "slide_type": "slide"
    }
   },
   "source": [
    "## Cases\n"
   ]
  },
  {
   "cell_type": "markdown",
   "metadata": {},
   "source": [
    "Some functions are defined in terms of cases. For example, a cell phone plan might depend on the data used through:\n"
   ]
  },
  {
   "cell_type": "markdown",
   "metadata": {},
   "source": [
    "> The amount is 35 dollars for the first 9 Gb  of data, and 10 dollars more for each *additional* Gb of data.\n",
    "\n"
   ]
  },
  {
   "cell_type": "markdown",
   "metadata": {},
   "source": [
    "This function has two cases to consider: one if the data is less than 9 Gb and the other when it is more.\n"
   ]
  },
  {
   "cell_type": "markdown",
   "metadata": {},
   "source": [
    "In a math class we would write this as:\n"
   ]
  },
  {
   "cell_type": "markdown",
   "metadata": {},
   "source": [
    "$$ cost(data) = \\begin{cases} 35.0,                   & data \\leq 9.0 \\\\\n",
    "35.0+10.0*(data-9.0), & \\text{otherwise.} \\end{cases} $$\n"
   ]
  },
  {
   "cell_type": "markdown",
   "metadata": {},
   "source": [
    "How to write this in `Julia`?\n"
   ]
  },
  {
   "cell_type": "markdown",
   "metadata": {},
   "source": [
    "The ternary operator `predicate ? expression1 : expression2` has three pieces: a predicate question, such as `x < 10` and two expressions, the first is evaluated if the predicate is `true` and the second if the predicate is `false`. Using the ternary operator, simple case-like functions can be defined in one line.\n"
   ]
  },
  {
   "cell_type": "markdown",
   "metadata": {},
   "source": [
    "For example, the above can be defined in `Julia` with:\n"
   ]
  },
  {
   "cell_type": "code",
   "execution_count": 9,
   "metadata": {},
   "outputs": [
    {
     "data": {
      "text/plain": [
       "cost (generic function with 1 method)"
      ]
     },
     "execution_count": 9,
     "metadata": {},
     "output_type": "execute_result"
    }
   ],
   "source": [
    "cost(data) = data <= 9.0 ? 35.00 : 35.00 + 10.00 * (data - 9.0)"
   ]
  },
  {
   "cell_type": "markdown",
   "metadata": {},
   "source": [
    "So, three pieces: **first**, you ask a question. **Second**, what should the function do if the answer is 'yes'? **Third**, what should the function do if the answer is 'no'?\n"
   ]
  },
  {
   "cell_type": "markdown",
   "metadata": {
    "internals": {
     "slide_helper": "subslide_end",
     "slide_type": "subslide"
    },
    "slide_helper": "slide_end",
    "slideshow": {
     "slide_type": "slide"
    }
   },
   "source": [
    "## Composition\n"
   ]
  },
  {
   "cell_type": "markdown",
   "metadata": {},
   "source": [
    "Composition of functions is a useful means to break complicated problems into easier to solve ones. The math notation is typically $f(g(x))$ and in `Julia` this is no different.\n"
   ]
  },
  {
   "cell_type": "markdown",
   "metadata": {
    "internals": {
     "slide_helper": "subslide_end",
     "slide_type": "subslide"
    },
    "slide_helper": "slide_end",
    "slideshow": {
     "slide_type": "slide"
    }
   },
   "source": [
    "## Functions may need more than one argument\n"
   ]
  },
  {
   "cell_type": "markdown",
   "metadata": {},
   "source": [
    "In `Julia` some functions require more than one argument. There are two ways that a function can distinguish between arguments:\n"
   ]
  },
  {
   "cell_type": "markdown",
   "metadata": {},
   "source": [
    "**Using position**. A typical case is the function expressing the $\\log$ of $x$ base $b$. The function must have both a position to pass in values for either $x$ or $b$. In `Julia` the function is written `log(b, x)`:\n"
   ]
  },
  {
   "cell_type": "code",
   "execution_count": 10,
   "metadata": {},
   "outputs": [
    {
     "data": {
      "text/plain": [
       "8.526512829121202e-14"
      ]
     },
     "execution_count": 10,
     "metadata": {},
     "output_type": "execute_result"
    }
   ],
   "source": [
    "b, x = 5, 100\n",
    "a = log(b, x)\n",
    "b^a - x  # verify, is this close to 0?"
   ]
  },
  {
   "cell_type": "markdown",
   "metadata": {},
   "source": [
    "(This also shows that `Julia` can have the same name for **different** functions, as `log(x)` does the logarithm base $e$ and takes only 1 argument.)\n"
   ]
  },
  {
   "cell_type": "markdown",
   "metadata": {},
   "source": [
    "**Using keyword names**. Some arguments can be designated by a \"keyword\", which  have default values. This is common in general, but not so much used within these notes. This style provides a natural means to pass *parameters* to a function.\n"
   ]
  },
  {
   "cell_type": "markdown",
   "metadata": {},
   "source": [
    "Plotting is where we will find the most usage. Keywords are used for adjustments, such as to the line style or color.  Plotting features are provided in add-on packages. This command loads the `Plots` package, which we will use in these notes.\n"
   ]
  },
  {
   "cell_type": "code",
   "execution_count": 11,
   "metadata": {},
   "outputs": [],
   "source": [
    "using Plots"
   ]
  },
  {
   "cell_type": "markdown",
   "metadata": {},
   "source": [
    "Here is a mathematical example from the theory of [wavelets](https://en.wikipedia.org/wiki/Wavelet).\n"
   ]
  },
  {
   "cell_type": "markdown",
   "metadata": {},
   "source": [
    "Define `mother` by\n"
   ]
  },
  {
   "cell_type": "code",
   "execution_count": 12,
   "metadata": {},
   "outputs": [
    {
     "data": {
      "text/plain": [
       "mother (generic function with 1 method)"
      ]
     },
     "execution_count": 12,
     "metadata": {},
     "output_type": "execute_result"
    }
   ],
   "source": [
    "mother(x) = (sin(2*pi*x) - sin(pi*x))/(pi*x)"
   ]
  },
  {
   "cell_type": "markdown",
   "metadata": {},
   "source": [
    "This function is *scaled* and *shifted* in application. To keep track of the scale (by `a`) and the shift (by `b`) we might define a function that allows these to be passed as *parameters*\n"
   ]
  },
  {
   "cell_type": "code",
   "execution_count": 13,
   "metadata": {},
   "outputs": [
    {
     "data": {
      "text/plain": [
       "child (generic function with 1 method)"
      ]
     },
     "execution_count": 13,
     "metadata": {},
     "output_type": "execute_result"
    }
   ],
   "source": [
    "child(x; a=1, b=0) = mother((x-b)/a) / sqrt(a)"
   ]
  },
  {
   "cell_type": "markdown",
   "metadata": {},
   "source": [
    "This would then be called like:\n"
   ]
  },
  {
   "cell_type": "code",
   "execution_count": 14,
   "metadata": {},
   "outputs": [
    {
     "data": {
      "text/plain": [
       "-0.6366197723675813"
      ]
     },
     "execution_count": 14,
     "metadata": {},
     "output_type": "execute_result"
    }
   ],
   "source": [
    "child(1/2)"
   ]
  },
  {
   "cell_type": "markdown",
   "metadata": {},
   "source": [
    "to reference the *default* parameters (which align with `mother`) or with other parameters, e.g.:\n"
   ]
  },
  {
   "cell_type": "code",
   "execution_count": 15,
   "metadata": {},
   "outputs": [
    {
     "data": {
      "text/plain": [
       "NaN"
      ]
     },
     "execution_count": 15,
     "metadata": {},
     "output_type": "execute_result"
    }
   ],
   "source": [
    "child(1/1; a = 2, b = 1)"
   ]
  },
  {
   "cell_type": "markdown",
   "metadata": {
    "internals": {
     "slide_helper": "subslide_end",
     "slide_type": "subslide"
    },
    "slide_helper": "slide_end",
    "slideshow": {
     "slide_type": "slide"
    }
   },
   "source": [
    "## Functions can be used as arguments to other functions:\n"
   ]
  },
  {
   "cell_type": "markdown",
   "metadata": {},
   "source": [
    "Calculus has three main operations: The limit of a *function*, the derivative of a *function*, and the integral of a *function*.  These operations take a function and compute some value. For limits this value is a number, for derivatives this value is another function. In `Julia` we will use functions to implement each.\n"
   ]
  },
  {
   "cell_type": "markdown",
   "metadata": {},
   "source": [
    "Using `Julia` operations on functions are just functions where the *arguments* are themselves functions and, *possibly*, the return value is also a function.\n"
   ]
  },
  {
   "cell_type": "markdown",
   "metadata": {},
   "source": [
    "The first example we will encounter is related to plotting. The details come the `Plots` package has been loaded):\n"
   ]
  },
  {
   "cell_type": "code",
   "execution_count": 16,
   "metadata": {},
   "outputs": [
    {
     "data": {
      "image/svg+xml": [
       "<?xml version=\"1.0\" encoding=\"utf-8\"?>\n",
       "<svg xmlns=\"http://www.w3.org/2000/svg\" xmlns:xlink=\"http://www.w3.org/1999/xlink\" width=\"600\" height=\"400\" viewBox=\"0 0 2400 1600\">\n",
       "<defs>\n",
       "  <clipPath id=\"clip940\">\n",
       "    <rect x=\"0\" y=\"0\" width=\"2400\" height=\"1600\"/>\n",
       "  </clipPath>\n",
       "</defs>\n",
       "<path clip-path=\"url(#clip940)\" d=\"\n",
       "M0 1600 L2400 1600 L2400 0 L0 0  Z\n",
       "  \" fill=\"#ffffff\" fill-rule=\"evenodd\" fill-opacity=\"1\"/>\n",
       "<defs>\n",
       "  <clipPath id=\"clip941\">\n",
       "    <rect x=\"480\" y=\"0\" width=\"1681\" height=\"1600\"/>\n",
       "  </clipPath>\n",
       "</defs>\n",
       "<path clip-path=\"url(#clip940)\" d=\"\n",
       "M193.936 1486.45 L2352.76 1486.45 L2352.76 47.2441 L193.936 47.2441  Z\n",
       "  \" fill=\"#ffffff\" fill-rule=\"evenodd\" fill-opacity=\"1\"/>\n",
       "<defs>\n",
       "  <clipPath id=\"clip942\">\n",
       "    <rect x=\"193\" y=\"47\" width=\"2160\" height=\"1440\"/>\n",
       "  </clipPath>\n",
       "</defs>\n",
       "<polyline clip-path=\"url(#clip942)\" style=\"stroke:#000000; stroke-linecap:butt; stroke-linejoin:round; stroke-width:2; stroke-opacity:0.1; fill:none\" points=\"\n",
       "  255.035,1486.45 255.035,47.2441 \n",
       "  \"/>\n",
       "<polyline clip-path=\"url(#clip942)\" style=\"stroke:#000000; stroke-linecap:butt; stroke-linejoin:round; stroke-width:2; stroke-opacity:0.1; fill:none\" points=\"\n",
       "  903.312,1486.45 903.312,47.2441 \n",
       "  \"/>\n",
       "<polyline clip-path=\"url(#clip942)\" style=\"stroke:#000000; stroke-linecap:butt; stroke-linejoin:round; stroke-width:2; stroke-opacity:0.1; fill:none\" points=\"\n",
       "  1551.59,1486.45 1551.59,47.2441 \n",
       "  \"/>\n",
       "<polyline clip-path=\"url(#clip942)\" style=\"stroke:#000000; stroke-linecap:butt; stroke-linejoin:round; stroke-width:2; stroke-opacity:0.1; fill:none\" points=\"\n",
       "  2199.87,1486.45 2199.87,47.2441 \n",
       "  \"/>\n",
       "<polyline clip-path=\"url(#clip940)\" style=\"stroke:#000000; stroke-linecap:butt; stroke-linejoin:round; stroke-width:4; stroke-opacity:1; fill:none\" points=\"\n",
       "  193.936,1486.45 2352.76,1486.45 \n",
       "  \"/>\n",
       "<polyline clip-path=\"url(#clip940)\" style=\"stroke:#000000; stroke-linecap:butt; stroke-linejoin:round; stroke-width:4; stroke-opacity:1; fill:none\" points=\"\n",
       "  255.035,1486.45 255.035,1467.55 \n",
       "  \"/>\n",
       "<polyline clip-path=\"url(#clip940)\" style=\"stroke:#000000; stroke-linecap:butt; stroke-linejoin:round; stroke-width:4; stroke-opacity:1; fill:none\" points=\"\n",
       "  903.312,1486.45 903.312,1467.55 \n",
       "  \"/>\n",
       "<polyline clip-path=\"url(#clip940)\" style=\"stroke:#000000; stroke-linecap:butt; stroke-linejoin:round; stroke-width:4; stroke-opacity:1; fill:none\" points=\"\n",
       "  1551.59,1486.45 1551.59,1467.55 \n",
       "  \"/>\n",
       "<polyline clip-path=\"url(#clip940)\" style=\"stroke:#000000; stroke-linecap:butt; stroke-linejoin:round; stroke-width:4; stroke-opacity:1; fill:none\" points=\"\n",
       "  2199.87,1486.45 2199.87,1467.55 \n",
       "  \"/>\n",
       "<path clip-path=\"url(#clip940)\" d=\"M255.035 1517.37 Q251.424 1517.37 249.595 1520.93 Q247.789 1524.47 247.789 1531.6 Q247.789 1538.71 249.595 1542.27 Q251.424 1545.82 255.035 1545.82 Q258.669 1545.82 260.474 1542.27 Q262.303 1538.71 262.303 1531.6 Q262.303 1524.47 260.474 1520.93 Q258.669 1517.37 255.035 1517.37 M255.035 1513.66 Q260.845 1513.66 263.9 1518.27 Q266.979 1522.85 266.979 1531.6 Q266.979 1540.33 263.9 1544.94 Q260.845 1549.52 255.035 1549.52 Q249.225 1549.52 246.146 1544.94 Q243.09 1540.33 243.09 1531.6 Q243.09 1522.85 246.146 1518.27 Q249.225 1513.66 255.035 1513.66 Z\" fill=\"#000000\" fill-rule=\"evenodd\" fill-opacity=\"1\" /><path clip-path=\"url(#clip940)\" d=\"M893.694 1544.91 L901.333 1544.91 L901.333 1518.55 L893.022 1520.21 L893.022 1515.95 L901.286 1514.29 L905.962 1514.29 L905.962 1544.91 L913.601 1544.91 L913.601 1548.85 L893.694 1548.85 L893.694 1544.91 Z\" fill=\"#000000\" fill-rule=\"evenodd\" fill-opacity=\"1\" /><path clip-path=\"url(#clip940)\" d=\"M1546.24 1544.91 L1562.56 1544.91 L1562.56 1548.85 L1540.62 1548.85 L1540.62 1544.91 Q1543.28 1542.16 1547.86 1537.53 Q1552.47 1532.88 1553.65 1531.53 Q1555.89 1529.01 1556.77 1527.27 Q1557.68 1525.51 1557.68 1523.82 Q1557.68 1521.07 1555.73 1519.33 Q1553.81 1517.6 1550.71 1517.6 Q1548.51 1517.6 1546.06 1518.36 Q1543.63 1519.13 1540.85 1520.68 L1540.85 1515.95 Q1543.67 1514.82 1546.13 1514.24 Q1548.58 1513.66 1550.62 1513.66 Q1555.99 1513.66 1559.18 1516.35 Q1562.38 1519.03 1562.38 1523.52 Q1562.38 1525.65 1561.57 1527.57 Q1560.78 1529.47 1558.67 1532.07 Q1558.09 1532.74 1554.99 1535.95 Q1551.89 1539.15 1546.24 1544.91 Z\" fill=\"#000000\" fill-rule=\"evenodd\" fill-opacity=\"1\" /><path clip-path=\"url(#clip940)\" d=\"M2204.11 1530.21 Q2207.47 1530.93 2209.35 1533.2 Q2211.24 1535.47 2211.24 1538.8 Q2211.24 1543.92 2207.72 1546.72 Q2204.21 1549.52 2197.72 1549.52 Q2195.55 1549.52 2193.23 1549.08 Q2190.94 1548.66 2188.49 1547.81 L2188.49 1543.29 Q2190.43 1544.43 2192.75 1545.01 Q2195.06 1545.58 2197.59 1545.58 Q2201.98 1545.58 2204.28 1543.85 Q2206.59 1542.11 2206.59 1538.8 Q2206.59 1535.75 2204.44 1534.03 Q2202.31 1532.3 2198.49 1532.3 L2194.46 1532.3 L2194.46 1528.45 L2198.67 1528.45 Q2202.12 1528.45 2203.95 1527.09 Q2205.78 1525.7 2205.78 1523.11 Q2205.78 1520.45 2203.88 1519.03 Q2202.01 1517.6 2198.49 1517.6 Q2196.57 1517.6 2194.37 1518.01 Q2192.17 1518.43 2189.53 1519.31 L2189.53 1515.14 Q2192.19 1514.4 2194.51 1514.03 Q2196.85 1513.66 2198.91 1513.66 Q2204.23 1513.66 2207.33 1516.09 Q2210.43 1518.5 2210.43 1522.62 Q2210.43 1525.49 2208.79 1527.48 Q2207.15 1529.45 2204.11 1530.21 Z\" fill=\"#000000\" fill-rule=\"evenodd\" fill-opacity=\"1\" /><polyline clip-path=\"url(#clip942)\" style=\"stroke:#000000; stroke-linecap:butt; stroke-linejoin:round; stroke-width:2; stroke-opacity:0.1; fill:none\" points=\"\n",
       "  193.936,1446.16 2352.76,1446.16 \n",
       "  \"/>\n",
       "<polyline clip-path=\"url(#clip942)\" style=\"stroke:#000000; stroke-linecap:butt; stroke-linejoin:round; stroke-width:2; stroke-opacity:0.1; fill:none\" points=\"\n",
       "  193.936,1106.61 2352.76,1106.61 \n",
       "  \"/>\n",
       "<polyline clip-path=\"url(#clip942)\" style=\"stroke:#000000; stroke-linecap:butt; stroke-linejoin:round; stroke-width:2; stroke-opacity:0.1; fill:none\" points=\"\n",
       "  193.936,767.066 2352.76,767.066 \n",
       "  \"/>\n",
       "<polyline clip-path=\"url(#clip942)\" style=\"stroke:#000000; stroke-linecap:butt; stroke-linejoin:round; stroke-width:2; stroke-opacity:0.1; fill:none\" points=\"\n",
       "  193.936,427.518 2352.76,427.518 \n",
       "  \"/>\n",
       "<polyline clip-path=\"url(#clip942)\" style=\"stroke:#000000; stroke-linecap:butt; stroke-linejoin:round; stroke-width:2; stroke-opacity:0.1; fill:none\" points=\"\n",
       "  193.936,87.9702 2352.76,87.9702 \n",
       "  \"/>\n",
       "<polyline clip-path=\"url(#clip940)\" style=\"stroke:#000000; stroke-linecap:butt; stroke-linejoin:round; stroke-width:4; stroke-opacity:1; fill:none\" points=\"\n",
       "  193.936,1486.45 193.936,47.2441 \n",
       "  \"/>\n",
       "<polyline clip-path=\"url(#clip940)\" style=\"stroke:#000000; stroke-linecap:butt; stroke-linejoin:round; stroke-width:4; stroke-opacity:1; fill:none\" points=\"\n",
       "  193.936,1446.16 212.834,1446.16 \n",
       "  \"/>\n",
       "<polyline clip-path=\"url(#clip940)\" style=\"stroke:#000000; stroke-linecap:butt; stroke-linejoin:round; stroke-width:4; stroke-opacity:1; fill:none\" points=\"\n",
       "  193.936,1106.61 212.834,1106.61 \n",
       "  \"/>\n",
       "<polyline clip-path=\"url(#clip940)\" style=\"stroke:#000000; stroke-linecap:butt; stroke-linejoin:round; stroke-width:4; stroke-opacity:1; fill:none\" points=\"\n",
       "  193.936,767.066 212.834,767.066 \n",
       "  \"/>\n",
       "<polyline clip-path=\"url(#clip940)\" style=\"stroke:#000000; stroke-linecap:butt; stroke-linejoin:round; stroke-width:4; stroke-opacity:1; fill:none\" points=\"\n",
       "  193.936,427.518 212.834,427.518 \n",
       "  \"/>\n",
       "<polyline clip-path=\"url(#clip940)\" style=\"stroke:#000000; stroke-linecap:butt; stroke-linejoin:round; stroke-width:4; stroke-opacity:1; fill:none\" points=\"\n",
       "  193.936,87.9702 212.834,87.9702 \n",
       "  \"/>\n",
       "<path clip-path=\"url(#clip940)\" d=\"M50.9921 1446.61 L80.6679 1446.61 L80.6679 1450.55 L50.9921 1450.55 L50.9921 1446.61 Z\" fill=\"#000000\" fill-rule=\"evenodd\" fill-opacity=\"1\" /><path clip-path=\"url(#clip940)\" d=\"M91.5706 1459.51 L99.2095 1459.51 L99.2095 1433.14 L90.8993 1434.81 L90.8993 1430.55 L99.1632 1428.88 L103.839 1428.88 L103.839 1459.51 L111.478 1459.51 L111.478 1463.44 L91.5706 1463.44 L91.5706 1459.51 Z\" fill=\"#000000\" fill-rule=\"evenodd\" fill-opacity=\"1\" /><path clip-path=\"url(#clip940)\" d=\"M120.922 1457.56 L125.807 1457.56 L125.807 1463.44 L120.922 1463.44 L120.922 1457.56 Z\" fill=\"#000000\" fill-rule=\"evenodd\" fill-opacity=\"1\" /><path clip-path=\"url(#clip940)\" d=\"M145.992 1431.96 Q142.381 1431.96 140.552 1435.52 Q138.746 1439.07 138.746 1446.2 Q138.746 1453.3 140.552 1456.87 Q142.381 1460.41 145.992 1460.41 Q149.626 1460.41 151.431 1456.87 Q153.26 1453.3 153.26 1446.2 Q153.26 1439.07 151.431 1435.52 Q149.626 1431.96 145.992 1431.96 M145.992 1428.26 Q151.802 1428.26 154.857 1432.86 Q157.936 1437.45 157.936 1446.2 Q157.936 1454.92 154.857 1459.53 Q151.802 1464.11 145.992 1464.11 Q140.181 1464.11 137.103 1459.53 Q134.047 1454.92 134.047 1446.2 Q134.047 1437.45 137.103 1432.86 Q140.181 1428.26 145.992 1428.26 Z\" fill=\"#000000\" fill-rule=\"evenodd\" fill-opacity=\"1\" /><path clip-path=\"url(#clip940)\" d=\"M51.9875 1107.06 L81.6633 1107.06 L81.6633 1111 L51.9875 1111 L51.9875 1107.06 Z\" fill=\"#000000\" fill-rule=\"evenodd\" fill-opacity=\"1\" /><path clip-path=\"url(#clip940)\" d=\"M101.756 1092.41 Q98.1447 1092.41 96.316 1095.98 Q94.5104 1099.52 94.5104 1106.65 Q94.5104 1113.75 96.316 1117.32 Q98.1447 1120.86 101.756 1120.86 Q105.39 1120.86 107.196 1117.32 Q109.024 1113.75 109.024 1106.65 Q109.024 1099.52 107.196 1095.98 Q105.39 1092.41 101.756 1092.41 M101.756 1088.71 Q107.566 1088.71 110.621 1093.31 Q113.7 1097.9 113.7 1106.65 Q113.7 1115.37 110.621 1119.98 Q107.566 1124.56 101.756 1124.56 Q95.9456 1124.56 92.8669 1119.98 Q89.8114 1115.37 89.8114 1106.65 Q89.8114 1097.9 92.8669 1093.31 Q95.9456 1088.71 101.756 1088.71 Z\" fill=\"#000000\" fill-rule=\"evenodd\" fill-opacity=\"1\" /><path clip-path=\"url(#clip940)\" d=\"M121.918 1118.01 L126.802 1118.01 L126.802 1123.89 L121.918 1123.89 L121.918 1118.01 Z\" fill=\"#000000\" fill-rule=\"evenodd\" fill-opacity=\"1\" /><path clip-path=\"url(#clip940)\" d=\"M137.033 1089.33 L155.39 1089.33 L155.39 1093.27 L141.316 1093.27 L141.316 1101.74 Q142.334 1101.39 143.353 1101.23 Q144.371 1101.05 145.39 1101.05 Q151.177 1101.05 154.556 1104.22 Q157.936 1107.39 157.936 1112.81 Q157.936 1118.38 154.464 1121.49 Q150.992 1124.56 144.672 1124.56 Q142.496 1124.56 140.228 1124.19 Q137.982 1123.82 135.575 1123.08 L135.575 1118.38 Q137.658 1119.52 139.881 1120.07 Q142.103 1120.63 144.58 1120.63 Q148.584 1120.63 150.922 1118.52 Q153.26 1116.42 153.26 1112.81 Q153.26 1109.19 150.922 1107.09 Q148.584 1104.98 144.58 1104.98 Q142.705 1104.98 140.83 1105.4 Q138.978 1105.81 137.033 1106.69 L137.033 1089.33 Z\" fill=\"#000000\" fill-rule=\"evenodd\" fill-opacity=\"1\" /><path clip-path=\"url(#clip940)\" d=\"M100.76 752.864 Q97.1493 752.864 95.3206 756.429 Q93.515 759.971 93.515 767.1 Q93.515 774.207 95.3206 777.772 Q97.1493 781.313 100.76 781.313 Q104.395 781.313 106.2 777.772 Q108.029 774.207 108.029 767.1 Q108.029 759.971 106.2 756.429 Q104.395 752.864 100.76 752.864 M100.76 749.161 Q106.571 749.161 109.626 753.767 Q112.705 758.35 112.705 767.1 Q112.705 775.827 109.626 780.434 Q106.571 785.017 100.76 785.017 Q94.9502 785.017 91.8715 780.434 Q88.816 775.827 88.816 767.1 Q88.816 758.35 91.8715 753.767 Q94.9502 749.161 100.76 749.161 Z\" fill=\"#000000\" fill-rule=\"evenodd\" fill-opacity=\"1\" /><path clip-path=\"url(#clip940)\" d=\"M120.922 778.466 L125.807 778.466 L125.807 784.346 L120.922 784.346 L120.922 778.466 Z\" fill=\"#000000\" fill-rule=\"evenodd\" fill-opacity=\"1\" /><path clip-path=\"url(#clip940)\" d=\"M145.992 752.864 Q142.381 752.864 140.552 756.429 Q138.746 759.971 138.746 767.1 Q138.746 774.207 140.552 777.772 Q142.381 781.313 145.992 781.313 Q149.626 781.313 151.431 777.772 Q153.26 774.207 153.26 767.1 Q153.26 759.971 151.431 756.429 Q149.626 752.864 145.992 752.864 M145.992 749.161 Q151.802 749.161 154.857 753.767 Q157.936 758.35 157.936 767.1 Q157.936 775.827 154.857 780.434 Q151.802 785.017 145.992 785.017 Q140.181 785.017 137.103 780.434 Q134.047 775.827 134.047 767.1 Q134.047 758.35 137.103 753.767 Q140.181 749.161 145.992 749.161 Z\" fill=\"#000000\" fill-rule=\"evenodd\" fill-opacity=\"1\" /><path clip-path=\"url(#clip940)\" d=\"M101.756 413.317 Q98.1447 413.317 96.316 416.881 Q94.5104 420.423 94.5104 427.553 Q94.5104 434.659 96.316 438.224 Q98.1447 441.766 101.756 441.766 Q105.39 441.766 107.196 438.224 Q109.024 434.659 109.024 427.553 Q109.024 420.423 107.196 416.881 Q105.39 413.317 101.756 413.317 M101.756 409.613 Q107.566 409.613 110.621 414.219 Q113.7 418.803 113.7 427.553 Q113.7 436.279 110.621 440.886 Q107.566 445.469 101.756 445.469 Q95.9456 445.469 92.8669 440.886 Q89.8114 436.279 89.8114 427.553 Q89.8114 418.803 92.8669 414.219 Q95.9456 409.613 101.756 409.613 Z\" fill=\"#000000\" fill-rule=\"evenodd\" fill-opacity=\"1\" /><path clip-path=\"url(#clip940)\" d=\"M121.918 438.918 L126.802 438.918 L126.802 444.798 L121.918 444.798 L121.918 438.918 Z\" fill=\"#000000\" fill-rule=\"evenodd\" fill-opacity=\"1\" /><path clip-path=\"url(#clip940)\" d=\"M137.033 410.238 L155.39 410.238 L155.39 414.173 L141.316 414.173 L141.316 422.645 Q142.334 422.298 143.353 422.136 Q144.371 421.951 145.39 421.951 Q151.177 421.951 154.556 425.122 Q157.936 428.293 157.936 433.71 Q157.936 439.289 154.464 442.391 Q150.992 445.469 144.672 445.469 Q142.496 445.469 140.228 445.099 Q137.982 444.728 135.575 443.988 L135.575 439.289 Q137.658 440.423 139.881 440.978 Q142.103 441.534 144.58 441.534 Q148.584 441.534 150.922 439.428 Q153.26 437.321 153.26 433.71 Q153.26 430.099 150.922 427.992 Q148.584 425.886 144.58 425.886 Q142.705 425.886 140.83 426.303 Q138.978 426.719 137.033 427.599 L137.033 410.238 Z\" fill=\"#000000\" fill-rule=\"evenodd\" fill-opacity=\"1\" /><path clip-path=\"url(#clip940)\" d=\"M91.5706 101.315 L99.2095 101.315 L99.2095 74.9494 L90.8993 76.6161 L90.8993 72.3568 L99.1632 70.6902 L103.839 70.6902 L103.839 101.315 L111.478 101.315 L111.478 105.25 L91.5706 105.25 L91.5706 101.315 Z\" fill=\"#000000\" fill-rule=\"evenodd\" fill-opacity=\"1\" /><path clip-path=\"url(#clip940)\" d=\"M120.922 99.3706 L125.807 99.3706 L125.807 105.25 L120.922 105.25 L120.922 99.3706 Z\" fill=\"#000000\" fill-rule=\"evenodd\" fill-opacity=\"1\" /><path clip-path=\"url(#clip940)\" d=\"M145.992 73.7689 Q142.381 73.7689 140.552 77.3337 Q138.746 80.8753 138.746 88.0049 Q138.746 95.1113 140.552 98.6761 Q142.381 102.218 145.992 102.218 Q149.626 102.218 151.431 98.6761 Q153.26 95.1113 153.26 88.0049 Q153.26 80.8753 151.431 77.3337 Q149.626 73.7689 145.992 73.7689 M145.992 70.0652 Q151.802 70.0652 154.857 74.6716 Q157.936 79.2549 157.936 88.0049 Q157.936 96.7317 154.857 101.338 Q151.802 105.921 145.992 105.921 Q140.181 105.921 137.103 101.338 Q134.047 96.7317 134.047 88.0049 Q134.047 79.2549 137.103 74.6716 Q140.181 70.0652 145.992 70.0652 Z\" fill=\"#000000\" fill-rule=\"evenodd\" fill-opacity=\"1\" /><polyline clip-path=\"url(#clip942)\" style=\"stroke:#009af9; stroke-linecap:butt; stroke-linejoin:round; stroke-width:4; stroke-opacity:1; fill:none\" points=\"\n",
       "  255.035,767.066 260.007,767.026 264.979,766.906 269.952,766.706 274.924,766.426 320.9,760.056 366.877,746.856 412.853,726.843 458.829,700.064 514.089,659.086 \n",
       "  569.348,608.894 616.07,559.802 662.791,505.354 764.296,374.088 857.875,250.326 908.038,190.319 958.201,140.077 987.26,117.313 1016.32,100.419 1045.38,90.392 \n",
       "  1074.44,88.2145 1100.26,93.623 1126.09,106.569 1151.91,127.577 1177.74,157.069 1200.38,190.148 1223.03,230.081 1245.67,276.863 1268.32,330.367 1293.01,396.055 \n",
       "  1317.7,468.893 1342.39,548.131 1367.08,632.788 1416.75,814.366 1466.43,1000.05 1493.89,1098.76 1521.35,1190.9 1548.81,1273.32 1576.27,1342.92 1602.4,1394.45 \n",
       "  1628.52,1429.26 1641.59,1439.72 1654.65,1445.27 1667.72,1445.72 1680.78,1440.91 1694.36,1430.23 1707.95,1413.68 1721.53,1391.25 1735.11,1362.98 1748.7,1328.98 \n",
       "  1762.28,1289.41 1775.86,1244.51 1789.45,1194.57 1812.31,1100.18 1835.18,994.801 1858.05,881.131 1880.92,762.356 1908.84,615.674 1936.76,473.877 1964.68,344.443 \n",
       "  1992.6,234.803 2005.72,192.111 2018.85,155.99 2031.97,127.036 2045.09,105.77 2058.21,92.6336 2071.34,87.9763 2084.46,92.0446 2097.58,104.975 2108.1,121.741 \n",
       "  2118.61,144.16 2129.12,172.13 2139.63,205.497 2150.14,244.051 2160.65,287.529 2171.17,335.614 2181.68,387.934 2202.7,503.547 2223.73,630.426 2244.75,763.961 \n",
       "  2265.77,899.02 2272.24,940.054 2278.72,980.552 2285.19,1020.35 2291.66,1059.28 \n",
       "  \"/>\n",
       "<path clip-path=\"url(#clip940)\" d=\"\n",
       "M1988.5 198.898 L2280.8 198.898 L2280.8 95.2176 L1988.5 95.2176  Z\n",
       "  \" fill=\"#ffffff\" fill-rule=\"evenodd\" fill-opacity=\"1\"/>\n",
       "<polyline clip-path=\"url(#clip940)\" style=\"stroke:#000000; stroke-linecap:butt; stroke-linejoin:round; stroke-width:4; stroke-opacity:1; fill:none\" points=\"\n",
       "  1988.5,198.898 2280.8,198.898 2280.8,95.2176 1988.5,95.2176 1988.5,198.898 \n",
       "  \"/>\n",
       "<polyline clip-path=\"url(#clip940)\" style=\"stroke:#009af9; stroke-linecap:butt; stroke-linejoin:round; stroke-width:4; stroke-opacity:1; fill:none\" points=\"\n",
       "  2012.48,147.058 2156.4,147.058 \n",
       "  \"/>\n",
       "<path clip-path=\"url(#clip940)\" d=\"M2194.23 166.745 Q2192.43 171.375 2190.72 172.787 Q2189 174.199 2186.13 174.199 L2182.73 174.199 L2182.73 170.634 L2185.23 170.634 Q2186.99 170.634 2187.96 169.8 Q2188.93 168.967 2190.11 165.865 L2190.88 163.921 L2180.39 138.412 L2184.91 138.412 L2193.01 158.689 L2201.11 138.412 L2205.62 138.412 L2194.23 166.745 Z\" fill=\"#000000\" fill-rule=\"evenodd\" fill-opacity=\"1\" /><path clip-path=\"url(#clip940)\" d=\"M2212.91 160.402 L2220.55 160.402 L2220.55 134.037 L2212.24 135.703 L2212.24 131.444 L2220.51 129.778 L2225.18 129.778 L2225.18 160.402 L2232.82 160.402 L2232.82 164.338 L2212.91 164.338 L2212.91 160.402 Z\" fill=\"#000000\" fill-rule=\"evenodd\" fill-opacity=\"1\" /></svg>\n"
      ]
     },
     "execution_count": 16,
     "metadata": {},
     "output_type": "execute_result"
    }
   ],
   "source": [
    "f(x) = sin(x^2)\n",
    "plot(f, 0, pi)"
   ]
  },
  {
   "cell_type": "markdown",
   "metadata": {},
   "source": [
    "The first argument to `plot` is a function object–not a function call, as in `f(x)`, the second and third describe an interval to plot over. This will be a typical pattern: `someaction(f, arguments...)`.\n"
   ]
  },
  {
   "cell_type": "markdown",
   "metadata": {},
   "source": [
    "---\n"
   ]
  },
  {
   "cell_type": "code",
   "execution_count": null,
   "metadata": {},
   "outputs": [],
   "source": []
  }
 ],
 "metadata": {
  "kernelspec": {
   "display_name": "Julia 1.7.2",
   "language": "julia",
   "name": "julia-1.7"
  },
  "language_info": {
   "file_extension": ".jl",
   "mimetype": "application/julia",
   "name": "julia",
   "version": "1.7.3"
  }
 },
 "nbformat": 4,
 "nbformat_minor": 2
}
